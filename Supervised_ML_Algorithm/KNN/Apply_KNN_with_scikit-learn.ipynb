{
 "cells": [
  {
   "cell_type": "code",
   "execution_count": 11,
   "metadata": {},
   "outputs": [],
   "source": [
    "# Demo how to apply KNN using scikit-learn\n",
    "# 1. get the forge dataset from mglearn\n",
    "# 2. Separate the dataset into training and test datasets by the method: train_test_split from scikit-learn\n",
    "# 3. Creare the KNN classifier\n",
    "# 4. Fitting or training the KNN classifier by storing the traing dataset and target into the KNN model.  Use the fit() method\n",
    "# 5. Make rediction\n",
    "# 6. Evaluate the prediction\n",
    "from sklearn.model_selection import train_test_split\n",
    "from sklearn.neighbors import KNeighborsClassifier\n",
    "import mglearn\n",
    "\n",
    "# Step 1, create the forge data\n",
    "X, y = mglearn.datasets.make_forge()\n",
    "# Conventionally, X represent data and y present label(as target)\n",
    "\n",
    "# Step 2.Separate the data into training and test dataset by model_selection.train_test_split\n",
    "X_train, X_test, y_train, y_test= train_test_split(X, y, random_state=0)"
   ]
  },
  {
   "cell_type": "code",
   "execution_count": 12,
   "metadata": {},
   "outputs": [],
   "source": [
    "# Step 3, Create KNN object with neighbor = 3\n",
    "knn = KNeighborsClassifier(n_neighbors=3)"
   ]
  },
  {
   "cell_type": "code",
   "execution_count": 13,
   "metadata": {},
   "outputs": [
    {
     "data": {
      "text/plain": [
       "KNeighborsClassifier(algorithm='auto', leaf_size=30, metric='minkowski',\n",
       "           metric_params=None, n_jobs=None, n_neighbors=3, p=2,\n",
       "           weights='uniform')"
      ]
     },
     "execution_count": 13,
     "metadata": {},
     "output_type": "execute_result"
    }
   ],
   "source": [
    "# Step 4, Train the KNN object by fit function by the training data and label -> knn.fit(train_data, train_result)\n",
    "knn.fit(X_train, y_train)"
   ]
  },
  {
   "cell_type": "code",
   "execution_count": 14,
   "metadata": {},
   "outputs": [
    {
     "name": "stdout",
     "output_type": "stream",
     "text": [
      "Test set prediction: [1 0 1 0 1 0 0]\n",
      "Test set label:        [1 0 1 0 1 1 0]\n"
     ]
    }
   ],
   "source": [
    "# Step 5, make the prediction -> knn.predicgt(test_data)\n",
    "print('Test set prediction: {}'.format(knn.predict(X_test)))\n",
    "print('Test set label:        {}'.format(y_test))"
   ]
  },
  {
   "cell_type": "code",
   "execution_count": 15,
   "metadata": {},
   "outputs": [
    {
     "name": "stdout",
     "output_type": "stream",
     "text": [
      "Test set accuracy: 0.86\n"
     ]
    }
   ],
   "source": [
    "# Step 6, to evaluate the prediction -> knn.score(test_data, test_label)\n",
    "print('Test set accuracy: {:.2f}'.format(knn.score(X_test, y_test)))"
   ]
  },
  {
   "cell_type": "code",
   "execution_count": null,
   "metadata": {},
   "outputs": [],
   "source": []
  }
 ],
 "metadata": {
  "kernelspec": {
   "display_name": "Python 3",
   "language": "python",
   "name": "python3"
  },
  "language_info": {
   "codemirror_mode": {
    "name": "ipython",
    "version": 3
   },
   "file_extension": ".py",
   "mimetype": "text/x-python",
   "name": "python",
   "nbconvert_exporter": "python",
   "pygments_lexer": "ipython3",
   "version": "3.6.8"
  }
 },
 "nbformat": 4,
 "nbformat_minor": 2
}
